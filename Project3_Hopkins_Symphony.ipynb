{
 "cells": [
  {
   "cell_type": "markdown",
   "id": "10f9911d",
   "metadata": {},
   "source": [
    "# DSCI 614: Project 3\n",
    "\n",
    "### Symphony Hopkins"
   ]
  },
  {
   "cell_type": "markdown",
   "id": "11f0d887",
   "metadata": {},
   "source": [
    "## Introduction\n",
    "\n",
    "We are part of a data scientist team working for a retirement investment company. We were given a paper in pdf file, tax-efficient-withdrawal-strategies.pdf. We were asked to perform the following tasks:"
   ]
  },
  {
   "cell_type": "markdown",
   "id": "6c29ce0d",
   "metadata": {},
   "source": [
    "## 1. Extract all texts from the given pdf file."
   ]
  },
  {
   "cell_type": "markdown",
   "id": "de3bd5a2",
   "metadata": {},
   "source": [
    "We will begin by importing the necessary libraries and extracting the text from the pdf file."
   ]
  },
  {
   "cell_type": "code",
   "execution_count": 1,
   "id": "cec6b038",
   "metadata": {},
   "outputs": [],
   "source": [
    "# importing library\n",
    "import PyPDF2\n",
    "import re"
   ]
  },
  {
   "cell_type": "code",
   "execution_count": 2,
   "id": "eb34738e",
   "metadata": {},
   "outputs": [
    {
     "name": "stdout",
     "output_type": "stream",
     "text": [
      " There are 17 pages in the file.\n",
      "\n",
      " 1T ROWE  PRICE INSIGHTSON RETIREMENTKEY INSIGHTS\tThere are alternatives to the conventional strategy of drawing on a taxable account first followed by taxdeferred and then Roth accounts \tMany people can take advantage of income in a low tax bracket or taxfree capital gains\tIf planning to leave an es\n"
     ]
    }
   ],
   "source": [
    "# specifying file\n",
    "tews_pdf = '/Users/symphonyhopkins/Documents/Maryville_University/DSCI_614/Week_3/tax-efficient-withdrawal-strategies.pdf'\n",
    "# creating a pdf file object\n",
    "pdf_file = open(tews_pdf, 'rb')\n",
    "# creating a pdf reader object\n",
    "pdf_file_reader = PyPDF2.PdfFileReader(pdf_file)\n",
    "\n",
    "\n",
    "# getting the number of pages in the pdf file\n",
    "page_count = pdf_file_reader.numPages\n",
    "# printing number of pages in pdf file\n",
    "print(f' There are {page_count} pages in the file.')\n",
    "\n",
    "\n",
    "# initiating empty list\n",
    "output = []\n",
    "# getting text from each page via for loop\n",
    "for i in range(page_count):\n",
    "    # getting the i-th page contents from the pdf file\n",
    "    pdf_page = pdf_file_reader.getPage(i)\n",
    "    # extracting text from each page and append it to the list\n",
    "    output.append(pdf_page.extractText())\n",
    "# concatenating items in the list to a single string\n",
    "all_texts = ' '.join(output)\n",
    "\n",
    "\n",
    "# removing \\n from the texts\n",
    "all_texts = re.sub('\\n', '', all_texts)\n",
    "# removing punctuation from the texts\n",
    "all_texts = re.sub(r'[^\\w\\s]','',all_texts)\n",
    "\n",
    "\n",
    "# printing out the first 300 chars from the texts\n",
    "print('\\n',all_texts[:300])\n",
    "# closing the pdf file object\n",
    "pdf_file.close()\n"
   ]
  },
  {
   "cell_type": "markdown",
   "id": "39177a5b",
   "metadata": {},
   "source": [
    "## 2. Extract all the tokens from the texts. Extract all lemmas from the texts."
   ]
  },
  {
   "cell_type": "markdown",
   "id": "c58a9bce",
   "metadata": {},
   "source": [
    "Next, we'll extract the tokens and lemmas from the texts. Since the text is very long, we will only print out the first 20 items from each list."
   ]
  },
  {
   "cell_type": "code",
   "execution_count": 3,
   "id": "ddea5238",
   "metadata": {},
   "outputs": [],
   "source": [
    "# importing library\n",
    "import spacy"
   ]
  },
  {
   "cell_type": "code",
   "execution_count": 4,
   "id": "9fed1add",
   "metadata": {},
   "outputs": [
    {
     "name": "stdout",
     "output_type": "stream",
     "text": [
      "Token Text = 1; Lemma Text = 1\n",
      "Token Text = T; Lemma Text = t\n",
      "Token Text = ROWE; Lemma Text = ROWE\n",
      "Token Text =  ; Lemma Text =  \n",
      "Token Text = PRICE; Lemma Text = price\n",
      "Token Text = INSIGHTSON; Lemma Text = INSIGHTSON\n",
      "Token Text = RETIREMENTKEY; Lemma Text = RETIREMENTKEY\n",
      "Token Text = INSIGHTS; Lemma Text = INSIGHTS\n",
      "Token Text = \t; Lemma Text = \t\n",
      "Token Text = There; Lemma Text = there\n",
      "Token Text = are; Lemma Text = be\n",
      "Token Text = alternatives; Lemma Text = alternative\n",
      "Token Text = to; Lemma Text = to\n",
      "Token Text = the; Lemma Text = the\n",
      "Token Text = conventional; Lemma Text = conventional\n",
      "Token Text = strategy; Lemma Text = strategy\n",
      "Token Text = of; Lemma Text = of\n",
      "Token Text = drawing; Lemma Text = draw\n",
      "Token Text = on; Lemma Text = on\n",
      "Token Text = a; Lemma Text = a\n"
     ]
    }
   ],
   "source": [
    "# loading the model\n",
    "nlp = spacy.load(\"en_core_web_sm\")\n",
    "\n",
    "# processing the texts\n",
    "doc = nlp(all_texts)\n",
    "\n",
    "# initializing empty lists to store tokens and lemmas\n",
    "token_texts = []\n",
    "lemma_texts = []\n",
    "\n",
    "# storing tokens and lemmas in lists\n",
    "for token in doc:\n",
    "    # appending the token text to the token_texts list\n",
    "    token_texts.append(token.text)\n",
    "    # appending the lemma text to the lemma_texts list\n",
    "    lemma_texts.append(token.lemma_)\n",
    "\n",
    "# printing out the first 20 tokens and lemmas\n",
    "for i in range(20):\n",
    "    print(f'Token Text = {token_texts[i]}; Lemma Text = {lemma_texts[i]}')"
   ]
  },
  {
   "cell_type": "markdown",
   "id": "6d3f2c45",
   "metadata": {},
   "source": [
    "## 3. Remove all the default stop words in SpaCy from the texts."
   ]
  },
  {
   "cell_type": "markdown",
   "id": "8d6dfdf3",
   "metadata": {},
   "source": [
    "Now, we will remove all of the default stop words from the texts."
   ]
  },
  {
   "cell_type": "code",
   "execution_count": 5,
   "id": "36fea1e1",
   "metadata": {},
   "outputs": [
    {
     "name": "stdout",
     "output_type": "stream",
     "text": [
      "[1, T, ROWE,  , PRICE, INSIGHTSON, RETIREMENTKEY, INSIGHTS, \t, There, alternatives, conventional, strategy, drawing, taxable, account, followed, taxdeferred, Roth, accounts, \t, Many, people, advantage, income, low, tax, bracket, taxfree, capital, gains, \t, If, planning, leave, estate, heirs, consider, assets, ultimately, maximize, aftertax, value, How, Get, More, Out, Your, Retirement, Account, Withdrawals, These, approaches, extend, life, portfolio, preserve, assets, heirsMany, people, rely, largely, Social, Security, benefits, taxdeferred, accounts, individual, retirement, accounts, IRAs, 401k, plans, support, lifestyle, retirement, However, sizable, number, retirees, enter, retirement, assets, taxable, accounts, brokerage, accounts, Roth, accounts, Deciding, use, combination, accounts, fund, spending, decision, likely, driven, tax, consequences]\n"
     ]
    }
   ],
   "source": [
    "# removing default stop words\n",
    "spacy_stopwords = nlp.Defaults.stop_words\n",
    "tokens_without_stopword= [token for token in doc if not token.text in spacy_stopwords]\n",
    "\n",
    "# printing tokens without stop words\n",
    "print(tokens_without_stopword[:100])"
   ]
  },
  {
   "cell_type": "markdown",
   "id": "ad5ed117",
   "metadata": {},
   "source": [
    "## 4. Customize the stop words in SpaCy by: a. Adding \"tax\" and \"account\" to the stop words. b. Remove \"full\" from the default stop words. Then remove all the customized default stop words from the texts."
   ]
  },
  {
   "cell_type": "markdown",
   "id": "016bad48",
   "metadata": {},
   "source": [
    "The company would like for us to add \"tax\" and \"account\" to the list of stop words, so let's do that. To ensure that they are added, we will count how many stop words there are before and after running the code."
   ]
  },
  {
   "cell_type": "code",
   "execution_count": 6,
   "id": "d977d7df",
   "metadata": {},
   "outputs": [
    {
     "name": "stdout",
     "output_type": "stream",
     "text": [
      "There are 326 stop words in Spacy\n",
      "There are 328 stop words in Spacy\n"
     ]
    }
   ],
   "source": [
    "# printing number of stop words currently\n",
    "print(f'There are {len(nlp.Defaults.stop_words)} stop words in Spacy')\n",
    "\n",
    "# specifying new stop words\n",
    "customized_stop_words = ['tax', 'account']\n",
    "# adding new stop words\n",
    "for token in customized_stop_words:\n",
    "    nlp.Defaults.stop_words.add(token)\n",
    "# setting the tag of the customized stop words as stop word \n",
    "for token in customized_stop_words:\n",
    "    nlp.vocab[token].is_stop = True\n",
    "    \n",
    "# printing number of stop words now\n",
    "print(f'There are {len(nlp.Defaults.stop_words)} stop words in Spacy')"
   ]
  },
  {
   "cell_type": "markdown",
   "id": "8a1a65b0",
   "metadata": {},
   "source": [
    "Then, we will remove \"full\" from the default stop words. Like before, we will show the number of stop words before and after."
   ]
  },
  {
   "cell_type": "code",
   "execution_count": 7,
   "id": "0c7bd0b6",
   "metadata": {},
   "outputs": [
    {
     "name": "stdout",
     "output_type": "stream",
     "text": [
      "There are 328 stop words in Spacy\n",
      "There are 327 stop words in Spacy\n"
     ]
    }
   ],
   "source": [
    "# printing number of stop words currently\n",
    "print(f'There are {len(nlp.Defaults.stop_words)} stop words in Spacy')\n",
    "\n",
    "# specifying the stop word\n",
    "remove_stop_words = ['full']\n",
    "# removing the stop word\n",
    "for token in remove_stop_words:\n",
    "    nlp.Defaults.stop_words.remove(token)\n",
    "# setting the tag of the removed stop words as non-stop word \n",
    "for token in remove_stop_words:\n",
    "    nlp.vocab[token].is_stop = False\n",
    "\n",
    "# printing number of stop words now\n",
    "print(f'There are {len(nlp.Defaults.stop_words)} stop words in Spacy')"
   ]
  },
  {
   "cell_type": "markdown",
   "id": "9f5ee062",
   "metadata": {},
   "source": [
    "Finally, we will remove all of the customized default stop words from the texts."
   ]
  },
  {
   "cell_type": "code",
   "execution_count": 8,
   "id": "d1c5cf83",
   "metadata": {},
   "outputs": [
    {
     "name": "stdout",
     "output_type": "stream",
     "text": [
      "[1, T, ROWE,  , PRICE, INSIGHTSON, RETIREMENTKEY, INSIGHTS, \t, There, alternatives, conventional, strategy, drawing, taxable, followed, taxdeferred, Roth, accounts, \t, Many, people, advantage, income, low, bracket, taxfree, capital, gains, \t, If, planning, leave, estate, heirs, consider, assets, ultimately, maximize, aftertax, value, How, Get, More, Out, Your, Retirement, Account, Withdrawals, These, approaches, extend, life, portfolio, preserve, assets, heirsMany, people, rely, largely, Social, Security, benefits, taxdeferred, accounts, individual, retirement, accounts, IRAs, 401k, plans, support, lifestyle, retirement, However, sizable, number, retirees, enter, retirement, assets, taxable, accounts, brokerage, accounts, Roth, accounts, Deciding, use, combination, accounts, fund, spending, decision, likely, driven, consequences, distributions, withdrawals, accounts]\n"
     ]
    }
   ],
   "source": [
    "# getting the new stop words\n",
    "spacy_stopwords = nlp.Defaults.stop_words\n",
    "tokens_without_stopword= [token for token in doc if not token.text in spacy_stopwords]\n",
    "# printing the tokens\n",
    "print(tokens_without_stopword[:100])"
   ]
  },
  {
   "cell_type": "markdown",
   "id": "92b743e4",
   "metadata": {},
   "source": [
    "## 5. Perform the part of speech tagging for the texts."
   ]
  },
  {
   "cell_type": "markdown",
   "id": "a18ca236",
   "metadata": {},
   "source": [
    "Now, we will tag the parts of speech (POS) in the text. Since this a long text, we will only print the first 20 POS."
   ]
  },
  {
   "cell_type": "code",
   "execution_count": 9,
   "id": "527fd41f",
   "metadata": {},
   "outputs": [
    {
     "name": "stdout",
     "output_type": "stream",
     "text": [
      "Token Text = 1; POS Text = NUM\n",
      "Token Text = T; POS Text = NOUN\n",
      "Token Text = ROWE; POS Text = PROPN\n",
      "Token Text =  ; POS Text = SPACE\n",
      "Token Text = PRICE; POS Text = NOUN\n",
      "Token Text = INSIGHTSON; POS Text = PROPN\n",
      "Token Text = RETIREMENTKEY; POS Text = PROPN\n",
      "Token Text = INSIGHTS; POS Text = PROPN\n",
      "Token Text = \t; POS Text = SPACE\n",
      "Token Text = There; POS Text = PRON\n",
      "Token Text = are; POS Text = VERB\n",
      "Token Text = alternatives; POS Text = NOUN\n",
      "Token Text = to; POS Text = ADP\n",
      "Token Text = the; POS Text = DET\n",
      "Token Text = conventional; POS Text = ADJ\n",
      "Token Text = strategy; POS Text = NOUN\n",
      "Token Text = of; POS Text = ADP\n",
      "Token Text = drawing; POS Text = VERB\n",
      "Token Text = on; POS Text = ADP\n",
      "Token Text = a; POS Text = DET\n"
     ]
    }
   ],
   "source": [
    "#initializing empty list\n",
    "token_pos = []\n",
    "\n",
    "# storing POS in list\n",
    "for token in doc:\n",
    "    # appending the POS to the token_pos list\n",
    "    token_pos.append(token.pos_)\n",
    "    \n",
    "# printing out the first 20 POS\n",
    "for i in range(20):\n",
    "    print(f'Token Text = {token_texts[i]}; POS Text = {token_pos[i]}')"
   ]
  },
  {
   "cell_type": "markdown",
   "id": "c7b706cc",
   "metadata": {},
   "source": [
    "## 6. Visualize the dependency parser of the texts."
   ]
  },
  {
   "cell_type": "markdown",
   "id": "47cf8f0d",
   "metadata": {},
   "source": [
    "Next, we'll visualize the dependency parser on the text. Because the visualization can become very large, we will parse through a small section of the text."
   ]
  },
  {
   "cell_type": "code",
   "execution_count": 10,
   "id": "7fcbfd30",
   "metadata": {},
   "outputs": [],
   "source": [
    "# importing library\n",
    "from spacy import displacy"
   ]
  },
  {
   "cell_type": "code",
   "execution_count": 11,
   "id": "8013ffd6",
   "metadata": {},
   "outputs": [
    {
     "data": {
      "text/html": [
       "<span class=\"tex2jax_ignore\"><svg xmlns=\"http://www.w3.org/2000/svg\" xmlns:xlink=\"http://www.w3.org/1999/xlink\" xml:lang=\"en\" id=\"9858971cc5b24d9e83b3157c12d1a858-0\" class=\"displacy\" width=\"3550\" height=\"487.0\" direction=\"ltr\" style=\"max-width: none; height: 487.0px; color: #000000; background: #ffffff; font-family: Arial; direction: ltr\">\n",
       "<text class=\"displacy-token\" fill=\"currentColor\" text-anchor=\"middle\" y=\"397.0\">\n",
       "    <tspan class=\"displacy-word\" fill=\"currentColor\" x=\"50\">1</tspan>\n",
       "    <tspan class=\"displacy-tag\" dy=\"2em\" fill=\"currentColor\" x=\"50\">NUM</tspan>\n",
       "</text>\n",
       "\n",
       "<text class=\"displacy-token\" fill=\"currentColor\" text-anchor=\"middle\" y=\"397.0\">\n",
       "    <tspan class=\"displacy-word\" fill=\"currentColor\" x=\"225\">T</tspan>\n",
       "    <tspan class=\"displacy-tag\" dy=\"2em\" fill=\"currentColor\" x=\"225\">NOUN</tspan>\n",
       "</text>\n",
       "\n",
       "<text class=\"displacy-token\" fill=\"currentColor\" text-anchor=\"middle\" y=\"397.0\">\n",
       "    <tspan class=\"displacy-word\" fill=\"currentColor\" x=\"400\">ROWE</tspan>\n",
       "    <tspan class=\"displacy-tag\" dy=\"2em\" fill=\"currentColor\" x=\"400\">PROPN</tspan>\n",
       "</text>\n",
       "\n",
       "<text class=\"displacy-token\" fill=\"currentColor\" text-anchor=\"middle\" y=\"397.0\">\n",
       "    <tspan class=\"displacy-word\" fill=\"currentColor\" x=\"575\"> </tspan>\n",
       "    <tspan class=\"displacy-tag\" dy=\"2em\" fill=\"currentColor\" x=\"575\">SPACE</tspan>\n",
       "</text>\n",
       "\n",
       "<text class=\"displacy-token\" fill=\"currentColor\" text-anchor=\"middle\" y=\"397.0\">\n",
       "    <tspan class=\"displacy-word\" fill=\"currentColor\" x=\"750\">PRICE</tspan>\n",
       "    <tspan class=\"displacy-tag\" dy=\"2em\" fill=\"currentColor\" x=\"750\">NOUN</tspan>\n",
       "</text>\n",
       "\n",
       "<text class=\"displacy-token\" fill=\"currentColor\" text-anchor=\"middle\" y=\"397.0\">\n",
       "    <tspan class=\"displacy-word\" fill=\"currentColor\" x=\"925\">INSIGHTSON</tspan>\n",
       "    <tspan class=\"displacy-tag\" dy=\"2em\" fill=\"currentColor\" x=\"925\">PROPN</tspan>\n",
       "</text>\n",
       "\n",
       "<text class=\"displacy-token\" fill=\"currentColor\" text-anchor=\"middle\" y=\"397.0\">\n",
       "    <tspan class=\"displacy-word\" fill=\"currentColor\" x=\"1100\">RETIREMENTKEY</tspan>\n",
       "    <tspan class=\"displacy-tag\" dy=\"2em\" fill=\"currentColor\" x=\"1100\">PROPN</tspan>\n",
       "</text>\n",
       "\n",
       "<text class=\"displacy-token\" fill=\"currentColor\" text-anchor=\"middle\" y=\"397.0\">\n",
       "    <tspan class=\"displacy-word\" fill=\"currentColor\" x=\"1275\">INSIGHTS</tspan>\n",
       "    <tspan class=\"displacy-tag\" dy=\"2em\" fill=\"currentColor\" x=\"1275\">PROPN</tspan>\n",
       "</text>\n",
       "\n",
       "<text class=\"displacy-token\" fill=\"currentColor\" text-anchor=\"middle\" y=\"397.0\">\n",
       "    <tspan class=\"displacy-word\" fill=\"currentColor\" x=\"1450\">\t</tspan>\n",
       "    <tspan class=\"displacy-tag\" dy=\"2em\" fill=\"currentColor\" x=\"1450\">SPACE</tspan>\n",
       "</text>\n",
       "\n",
       "<text class=\"displacy-token\" fill=\"currentColor\" text-anchor=\"middle\" y=\"397.0\">\n",
       "    <tspan class=\"displacy-word\" fill=\"currentColor\" x=\"1625\">There</tspan>\n",
       "    <tspan class=\"displacy-tag\" dy=\"2em\" fill=\"currentColor\" x=\"1625\">PRON</tspan>\n",
       "</text>\n",
       "\n",
       "<text class=\"displacy-token\" fill=\"currentColor\" text-anchor=\"middle\" y=\"397.0\">\n",
       "    <tspan class=\"displacy-word\" fill=\"currentColor\" x=\"1800\">are</tspan>\n",
       "    <tspan class=\"displacy-tag\" dy=\"2em\" fill=\"currentColor\" x=\"1800\">VERB</tspan>\n",
       "</text>\n",
       "\n",
       "<text class=\"displacy-token\" fill=\"currentColor\" text-anchor=\"middle\" y=\"397.0\">\n",
       "    <tspan class=\"displacy-word\" fill=\"currentColor\" x=\"1975\">alternatives</tspan>\n",
       "    <tspan class=\"displacy-tag\" dy=\"2em\" fill=\"currentColor\" x=\"1975\">NOUN</tspan>\n",
       "</text>\n",
       "\n",
       "<text class=\"displacy-token\" fill=\"currentColor\" text-anchor=\"middle\" y=\"397.0\">\n",
       "    <tspan class=\"displacy-word\" fill=\"currentColor\" x=\"2150\">to</tspan>\n",
       "    <tspan class=\"displacy-tag\" dy=\"2em\" fill=\"currentColor\" x=\"2150\">ADP</tspan>\n",
       "</text>\n",
       "\n",
       "<text class=\"displacy-token\" fill=\"currentColor\" text-anchor=\"middle\" y=\"397.0\">\n",
       "    <tspan class=\"displacy-word\" fill=\"currentColor\" x=\"2325\">the</tspan>\n",
       "    <tspan class=\"displacy-tag\" dy=\"2em\" fill=\"currentColor\" x=\"2325\">DET</tspan>\n",
       "</text>\n",
       "\n",
       "<text class=\"displacy-token\" fill=\"currentColor\" text-anchor=\"middle\" y=\"397.0\">\n",
       "    <tspan class=\"displacy-word\" fill=\"currentColor\" x=\"2500\">conventional</tspan>\n",
       "    <tspan class=\"displacy-tag\" dy=\"2em\" fill=\"currentColor\" x=\"2500\">ADJ</tspan>\n",
       "</text>\n",
       "\n",
       "<text class=\"displacy-token\" fill=\"currentColor\" text-anchor=\"middle\" y=\"397.0\">\n",
       "    <tspan class=\"displacy-word\" fill=\"currentColor\" x=\"2675\">strategy</tspan>\n",
       "    <tspan class=\"displacy-tag\" dy=\"2em\" fill=\"currentColor\" x=\"2675\">NOUN</tspan>\n",
       "</text>\n",
       "\n",
       "<text class=\"displacy-token\" fill=\"currentColor\" text-anchor=\"middle\" y=\"397.0\">\n",
       "    <tspan class=\"displacy-word\" fill=\"currentColor\" x=\"2850\">of</tspan>\n",
       "    <tspan class=\"displacy-tag\" dy=\"2em\" fill=\"currentColor\" x=\"2850\">ADP</tspan>\n",
       "</text>\n",
       "\n",
       "<text class=\"displacy-token\" fill=\"currentColor\" text-anchor=\"middle\" y=\"397.0\">\n",
       "    <tspan class=\"displacy-word\" fill=\"currentColor\" x=\"3025\">drawing</tspan>\n",
       "    <tspan class=\"displacy-tag\" dy=\"2em\" fill=\"currentColor\" x=\"3025\">VERB</tspan>\n",
       "</text>\n",
       "\n",
       "<text class=\"displacy-token\" fill=\"currentColor\" text-anchor=\"middle\" y=\"397.0\">\n",
       "    <tspan class=\"displacy-word\" fill=\"currentColor\" x=\"3200\">on</tspan>\n",
       "    <tspan class=\"displacy-tag\" dy=\"2em\" fill=\"currentColor\" x=\"3200\">ADP</tspan>\n",
       "</text>\n",
       "\n",
       "<text class=\"displacy-token\" fill=\"currentColor\" text-anchor=\"middle\" y=\"397.0\">\n",
       "    <tspan class=\"displacy-word\" fill=\"currentColor\" x=\"3375\">a</tspan>\n",
       "    <tspan class=\"displacy-tag\" dy=\"2em\" fill=\"currentColor\" x=\"3375\">DET</tspan>\n",
       "</text>\n",
       "\n",
       "<g class=\"displacy-arrow\">\n",
       "    <path class=\"displacy-arc\" id=\"arrow-9858971cc5b24d9e83b3157c12d1a858-0-0\" stroke-width=\"2px\" d=\"M70,352.0 C70,2.0 925.0,2.0 925.0,352.0\" fill=\"none\" stroke=\"currentColor\"/>\n",
       "    <text dy=\"1.25em\" style=\"font-size: 0.8em; letter-spacing: 1px\">\n",
       "        <textPath xlink:href=\"#arrow-9858971cc5b24d9e83b3157c12d1a858-0-0\" class=\"displacy-label\" startOffset=\"50%\" side=\"left\" fill=\"currentColor\" text-anchor=\"middle\">nummod</textPath>\n",
       "    </text>\n",
       "    <path class=\"displacy-arrowhead\" d=\"M70,354.0 L62,342.0 78,342.0\" fill=\"currentColor\"/>\n",
       "</g>\n",
       "\n",
       "<g class=\"displacy-arrow\">\n",
       "    <path class=\"displacy-arc\" id=\"arrow-9858971cc5b24d9e83b3157c12d1a858-0-1\" stroke-width=\"2px\" d=\"M245,352.0 C245,89.5 920.0,89.5 920.0,352.0\" fill=\"none\" stroke=\"currentColor\"/>\n",
       "    <text dy=\"1.25em\" style=\"font-size: 0.8em; letter-spacing: 1px\">\n",
       "        <textPath xlink:href=\"#arrow-9858971cc5b24d9e83b3157c12d1a858-0-1\" class=\"displacy-label\" startOffset=\"50%\" side=\"left\" fill=\"currentColor\" text-anchor=\"middle\">compound</textPath>\n",
       "    </text>\n",
       "    <path class=\"displacy-arrowhead\" d=\"M245,354.0 L237,342.0 253,342.0\" fill=\"currentColor\"/>\n",
       "</g>\n",
       "\n",
       "<g class=\"displacy-arrow\">\n",
       "    <path class=\"displacy-arc\" id=\"arrow-9858971cc5b24d9e83b3157c12d1a858-0-2\" stroke-width=\"2px\" d=\"M420,352.0 C420,177.0 740.0,177.0 740.0,352.0\" fill=\"none\" stroke=\"currentColor\"/>\n",
       "    <text dy=\"1.25em\" style=\"font-size: 0.8em; letter-spacing: 1px\">\n",
       "        <textPath xlink:href=\"#arrow-9858971cc5b24d9e83b3157c12d1a858-0-2\" class=\"displacy-label\" startOffset=\"50%\" side=\"left\" fill=\"currentColor\" text-anchor=\"middle\">compound</textPath>\n",
       "    </text>\n",
       "    <path class=\"displacy-arrowhead\" d=\"M420,354.0 L412,342.0 428,342.0\" fill=\"currentColor\"/>\n",
       "</g>\n",
       "\n",
       "<g class=\"displacy-arrow\">\n",
       "    <path class=\"displacy-arc\" id=\"arrow-9858971cc5b24d9e83b3157c12d1a858-0-3\" stroke-width=\"2px\" d=\"M420,352.0 C420,264.5 560.0,264.5 560.0,352.0\" fill=\"none\" stroke=\"currentColor\"/>\n",
       "    <text dy=\"1.25em\" style=\"font-size: 0.8em; letter-spacing: 1px\">\n",
       "        <textPath xlink:href=\"#arrow-9858971cc5b24d9e83b3157c12d1a858-0-3\" class=\"displacy-label\" startOffset=\"50%\" side=\"left\" fill=\"currentColor\" text-anchor=\"middle\">dep</textPath>\n",
       "    </text>\n",
       "    <path class=\"displacy-arrowhead\" d=\"M560.0,354.0 L568.0,342.0 552.0,342.0\" fill=\"currentColor\"/>\n",
       "</g>\n",
       "\n",
       "<g class=\"displacy-arrow\">\n",
       "    <path class=\"displacy-arc\" id=\"arrow-9858971cc5b24d9e83b3157c12d1a858-0-4\" stroke-width=\"2px\" d=\"M770,352.0 C770,264.5 910.0,264.5 910.0,352.0\" fill=\"none\" stroke=\"currentColor\"/>\n",
       "    <text dy=\"1.25em\" style=\"font-size: 0.8em; letter-spacing: 1px\">\n",
       "        <textPath xlink:href=\"#arrow-9858971cc5b24d9e83b3157c12d1a858-0-4\" class=\"displacy-label\" startOffset=\"50%\" side=\"left\" fill=\"currentColor\" text-anchor=\"middle\">compound</textPath>\n",
       "    </text>\n",
       "    <path class=\"displacy-arrowhead\" d=\"M770,354.0 L762,342.0 778,342.0\" fill=\"currentColor\"/>\n",
       "</g>\n",
       "\n",
       "<g class=\"displacy-arrow\">\n",
       "    <path class=\"displacy-arc\" id=\"arrow-9858971cc5b24d9e83b3157c12d1a858-0-5\" stroke-width=\"2px\" d=\"M945,352.0 C945,264.5 1085.0,264.5 1085.0,352.0\" fill=\"none\" stroke=\"currentColor\"/>\n",
       "    <text dy=\"1.25em\" style=\"font-size: 0.8em; letter-spacing: 1px\">\n",
       "        <textPath xlink:href=\"#arrow-9858971cc5b24d9e83b3157c12d1a858-0-5\" class=\"displacy-label\" startOffset=\"50%\" side=\"left\" fill=\"currentColor\" text-anchor=\"middle\">compound</textPath>\n",
       "    </text>\n",
       "    <path class=\"displacy-arrowhead\" d=\"M945,354.0 L937,342.0 953,342.0\" fill=\"currentColor\"/>\n",
       "</g>\n",
       "\n",
       "<g class=\"displacy-arrow\">\n",
       "    <path class=\"displacy-arc\" id=\"arrow-9858971cc5b24d9e83b3157c12d1a858-0-6\" stroke-width=\"2px\" d=\"M1120,352.0 C1120,264.5 1260.0,264.5 1260.0,352.0\" fill=\"none\" stroke=\"currentColor\"/>\n",
       "    <text dy=\"1.25em\" style=\"font-size: 0.8em; letter-spacing: 1px\">\n",
       "        <textPath xlink:href=\"#arrow-9858971cc5b24d9e83b3157c12d1a858-0-6\" class=\"displacy-label\" startOffset=\"50%\" side=\"left\" fill=\"currentColor\" text-anchor=\"middle\">compound</textPath>\n",
       "    </text>\n",
       "    <path class=\"displacy-arrowhead\" d=\"M1120,354.0 L1112,342.0 1128,342.0\" fill=\"currentColor\"/>\n",
       "</g>\n",
       "\n",
       "<g class=\"displacy-arrow\">\n",
       "    <path class=\"displacy-arc\" id=\"arrow-9858971cc5b24d9e83b3157c12d1a858-0-7\" stroke-width=\"2px\" d=\"M1295,352.0 C1295,177.0 1790.0,177.0 1790.0,352.0\" fill=\"none\" stroke=\"currentColor\"/>\n",
       "    <text dy=\"1.25em\" style=\"font-size: 0.8em; letter-spacing: 1px\">\n",
       "        <textPath xlink:href=\"#arrow-9858971cc5b24d9e83b3157c12d1a858-0-7\" class=\"displacy-label\" startOffset=\"50%\" side=\"left\" fill=\"currentColor\" text-anchor=\"middle\">nsubj</textPath>\n",
       "    </text>\n",
       "    <path class=\"displacy-arrowhead\" d=\"M1295,354.0 L1287,342.0 1303,342.0\" fill=\"currentColor\"/>\n",
       "</g>\n",
       "\n",
       "<g class=\"displacy-arrow\">\n",
       "    <path class=\"displacy-arc\" id=\"arrow-9858971cc5b24d9e83b3157c12d1a858-0-8\" stroke-width=\"2px\" d=\"M1295,352.0 C1295,264.5 1435.0,264.5 1435.0,352.0\" fill=\"none\" stroke=\"currentColor\"/>\n",
       "    <text dy=\"1.25em\" style=\"font-size: 0.8em; letter-spacing: 1px\">\n",
       "        <textPath xlink:href=\"#arrow-9858971cc5b24d9e83b3157c12d1a858-0-8\" class=\"displacy-label\" startOffset=\"50%\" side=\"left\" fill=\"currentColor\" text-anchor=\"middle\">dep</textPath>\n",
       "    </text>\n",
       "    <path class=\"displacy-arrowhead\" d=\"M1435.0,354.0 L1443.0,342.0 1427.0,342.0\" fill=\"currentColor\"/>\n",
       "</g>\n",
       "\n",
       "<g class=\"displacy-arrow\">\n",
       "    <path class=\"displacy-arc\" id=\"arrow-9858971cc5b24d9e83b3157c12d1a858-0-9\" stroke-width=\"2px\" d=\"M1645,352.0 C1645,264.5 1785.0,264.5 1785.0,352.0\" fill=\"none\" stroke=\"currentColor\"/>\n",
       "    <text dy=\"1.25em\" style=\"font-size: 0.8em; letter-spacing: 1px\">\n",
       "        <textPath xlink:href=\"#arrow-9858971cc5b24d9e83b3157c12d1a858-0-9\" class=\"displacy-label\" startOffset=\"50%\" side=\"left\" fill=\"currentColor\" text-anchor=\"middle\">expl</textPath>\n",
       "    </text>\n",
       "    <path class=\"displacy-arrowhead\" d=\"M1645,354.0 L1637,342.0 1653,342.0\" fill=\"currentColor\"/>\n",
       "</g>\n",
       "\n",
       "<g class=\"displacy-arrow\">\n",
       "    <path class=\"displacy-arc\" id=\"arrow-9858971cc5b24d9e83b3157c12d1a858-0-10\" stroke-width=\"2px\" d=\"M1820,352.0 C1820,264.5 1960.0,264.5 1960.0,352.0\" fill=\"none\" stroke=\"currentColor\"/>\n",
       "    <text dy=\"1.25em\" style=\"font-size: 0.8em; letter-spacing: 1px\">\n",
       "        <textPath xlink:href=\"#arrow-9858971cc5b24d9e83b3157c12d1a858-0-10\" class=\"displacy-label\" startOffset=\"50%\" side=\"left\" fill=\"currentColor\" text-anchor=\"middle\">attr</textPath>\n",
       "    </text>\n",
       "    <path class=\"displacy-arrowhead\" d=\"M1960.0,354.0 L1968.0,342.0 1952.0,342.0\" fill=\"currentColor\"/>\n",
       "</g>\n",
       "\n",
       "<g class=\"displacy-arrow\">\n",
       "    <path class=\"displacy-arc\" id=\"arrow-9858971cc5b24d9e83b3157c12d1a858-0-11\" stroke-width=\"2px\" d=\"M1995,352.0 C1995,264.5 2135.0,264.5 2135.0,352.0\" fill=\"none\" stroke=\"currentColor\"/>\n",
       "    <text dy=\"1.25em\" style=\"font-size: 0.8em; letter-spacing: 1px\">\n",
       "        <textPath xlink:href=\"#arrow-9858971cc5b24d9e83b3157c12d1a858-0-11\" class=\"displacy-label\" startOffset=\"50%\" side=\"left\" fill=\"currentColor\" text-anchor=\"middle\">prep</textPath>\n",
       "    </text>\n",
       "    <path class=\"displacy-arrowhead\" d=\"M2135.0,354.0 L2143.0,342.0 2127.0,342.0\" fill=\"currentColor\"/>\n",
       "</g>\n",
       "\n",
       "<g class=\"displacy-arrow\">\n",
       "    <path class=\"displacy-arc\" id=\"arrow-9858971cc5b24d9e83b3157c12d1a858-0-12\" stroke-width=\"2px\" d=\"M2345,352.0 C2345,177.0 2665.0,177.0 2665.0,352.0\" fill=\"none\" stroke=\"currentColor\"/>\n",
       "    <text dy=\"1.25em\" style=\"font-size: 0.8em; letter-spacing: 1px\">\n",
       "        <textPath xlink:href=\"#arrow-9858971cc5b24d9e83b3157c12d1a858-0-12\" class=\"displacy-label\" startOffset=\"50%\" side=\"left\" fill=\"currentColor\" text-anchor=\"middle\">det</textPath>\n",
       "    </text>\n",
       "    <path class=\"displacy-arrowhead\" d=\"M2345,354.0 L2337,342.0 2353,342.0\" fill=\"currentColor\"/>\n",
       "</g>\n",
       "\n",
       "<g class=\"displacy-arrow\">\n",
       "    <path class=\"displacy-arc\" id=\"arrow-9858971cc5b24d9e83b3157c12d1a858-0-13\" stroke-width=\"2px\" d=\"M2520,352.0 C2520,264.5 2660.0,264.5 2660.0,352.0\" fill=\"none\" stroke=\"currentColor\"/>\n",
       "    <text dy=\"1.25em\" style=\"font-size: 0.8em; letter-spacing: 1px\">\n",
       "        <textPath xlink:href=\"#arrow-9858971cc5b24d9e83b3157c12d1a858-0-13\" class=\"displacy-label\" startOffset=\"50%\" side=\"left\" fill=\"currentColor\" text-anchor=\"middle\">amod</textPath>\n",
       "    </text>\n",
       "    <path class=\"displacy-arrowhead\" d=\"M2520,354.0 L2512,342.0 2528,342.0\" fill=\"currentColor\"/>\n",
       "</g>\n",
       "\n",
       "<g class=\"displacy-arrow\">\n",
       "    <path class=\"displacy-arc\" id=\"arrow-9858971cc5b24d9e83b3157c12d1a858-0-14\" stroke-width=\"2px\" d=\"M2170,352.0 C2170,89.5 2670.0,89.5 2670.0,352.0\" fill=\"none\" stroke=\"currentColor\"/>\n",
       "    <text dy=\"1.25em\" style=\"font-size: 0.8em; letter-spacing: 1px\">\n",
       "        <textPath xlink:href=\"#arrow-9858971cc5b24d9e83b3157c12d1a858-0-14\" class=\"displacy-label\" startOffset=\"50%\" side=\"left\" fill=\"currentColor\" text-anchor=\"middle\">pobj</textPath>\n",
       "    </text>\n",
       "    <path class=\"displacy-arrowhead\" d=\"M2670.0,354.0 L2678.0,342.0 2662.0,342.0\" fill=\"currentColor\"/>\n",
       "</g>\n",
       "\n",
       "<g class=\"displacy-arrow\">\n",
       "    <path class=\"displacy-arc\" id=\"arrow-9858971cc5b24d9e83b3157c12d1a858-0-15\" stroke-width=\"2px\" d=\"M2695,352.0 C2695,264.5 2835.0,264.5 2835.0,352.0\" fill=\"none\" stroke=\"currentColor\"/>\n",
       "    <text dy=\"1.25em\" style=\"font-size: 0.8em; letter-spacing: 1px\">\n",
       "        <textPath xlink:href=\"#arrow-9858971cc5b24d9e83b3157c12d1a858-0-15\" class=\"displacy-label\" startOffset=\"50%\" side=\"left\" fill=\"currentColor\" text-anchor=\"middle\">prep</textPath>\n",
       "    </text>\n",
       "    <path class=\"displacy-arrowhead\" d=\"M2835.0,354.0 L2843.0,342.0 2827.0,342.0\" fill=\"currentColor\"/>\n",
       "</g>\n",
       "\n",
       "<g class=\"displacy-arrow\">\n",
       "    <path class=\"displacy-arc\" id=\"arrow-9858971cc5b24d9e83b3157c12d1a858-0-16\" stroke-width=\"2px\" d=\"M2870,352.0 C2870,264.5 3010.0,264.5 3010.0,352.0\" fill=\"none\" stroke=\"currentColor\"/>\n",
       "    <text dy=\"1.25em\" style=\"font-size: 0.8em; letter-spacing: 1px\">\n",
       "        <textPath xlink:href=\"#arrow-9858971cc5b24d9e83b3157c12d1a858-0-16\" class=\"displacy-label\" startOffset=\"50%\" side=\"left\" fill=\"currentColor\" text-anchor=\"middle\">pcomp</textPath>\n",
       "    </text>\n",
       "    <path class=\"displacy-arrowhead\" d=\"M3010.0,354.0 L3018.0,342.0 3002.0,342.0\" fill=\"currentColor\"/>\n",
       "</g>\n",
       "\n",
       "<g class=\"displacy-arrow\">\n",
       "    <path class=\"displacy-arc\" id=\"arrow-9858971cc5b24d9e83b3157c12d1a858-0-17\" stroke-width=\"2px\" d=\"M3045,352.0 C3045,264.5 3185.0,264.5 3185.0,352.0\" fill=\"none\" stroke=\"currentColor\"/>\n",
       "    <text dy=\"1.25em\" style=\"font-size: 0.8em; letter-spacing: 1px\">\n",
       "        <textPath xlink:href=\"#arrow-9858971cc5b24d9e83b3157c12d1a858-0-17\" class=\"displacy-label\" startOffset=\"50%\" side=\"left\" fill=\"currentColor\" text-anchor=\"middle\">prep</textPath>\n",
       "    </text>\n",
       "    <path class=\"displacy-arrowhead\" d=\"M3185.0,354.0 L3193.0,342.0 3177.0,342.0\" fill=\"currentColor\"/>\n",
       "</g>\n",
       "\n",
       "<g class=\"displacy-arrow\">\n",
       "    <path class=\"displacy-arc\" id=\"arrow-9858971cc5b24d9e83b3157c12d1a858-0-18\" stroke-width=\"2px\" d=\"M1820,352.0 C1820,2.0 3375.0,2.0 3375.0,352.0\" fill=\"none\" stroke=\"currentColor\"/>\n",
       "    <text dy=\"1.25em\" style=\"font-size: 0.8em; letter-spacing: 1px\">\n",
       "        <textPath xlink:href=\"#arrow-9858971cc5b24d9e83b3157c12d1a858-0-18\" class=\"displacy-label\" startOffset=\"50%\" side=\"left\" fill=\"currentColor\" text-anchor=\"middle\">dep</textPath>\n",
       "    </text>\n",
       "    <path class=\"displacy-arrowhead\" d=\"M3375.0,354.0 L3383.0,342.0 3367.0,342.0\" fill=\"currentColor\"/>\n",
       "</g>\n",
       "</svg></span>"
      ],
      "text/plain": [
       "<IPython.core.display.HTML object>"
      ]
     },
     "metadata": {},
     "output_type": "display_data"
    }
   ],
   "source": [
    "#visualizing the dependency parser\n",
    "displacy.render(doc[:20], style=\"dep\", jupyter = True)"
   ]
  },
  {
   "cell_type": "markdown",
   "id": "51d98cf2",
   "metadata": {},
   "source": [
    "## 7. Perform the named entities recognition for the texts."
   ]
  },
  {
   "cell_type": "markdown",
   "id": "09e0fd8b",
   "metadata": {},
   "source": [
    "Let's also perform named entity recognition."
   ]
  },
  {
   "cell_type": "code",
   "execution_count": 12,
   "id": "f074efc4",
   "metadata": {},
   "outputs": [
    {
     "name": "stdout",
     "output_type": "stream",
     "text": [
      "Entity Text = 1; Entity Label = CARDINAL\n",
      "Entity Text = ROWE; Entity Label = ORG\n",
      "Entity Text = first; Entity Label = ORDINAL\n",
      "Entity Text = Roth; Entity Label = PERSON\n",
      "Entity Text = Social Security; Entity Label = ORG\n",
      "Entity Text = 401k; Entity Label = PRODUCT\n",
      "Entity Text = Roth; Entity Label = PERSON\n",
      "Entity Text = 1; Entity Label = CARDINAL\n",
      "Entity Text = Appendix 1A; Entity Label = PRODUCT\n",
      "Entity Text = first; Entity Label = ORDINAL\n",
      "Entity Text = Roth; Entity Label = PERSON\n",
      "Entity Text = first; Entity Label = ORDINAL\n",
      "Entity Text = Leaving Roth; Entity Label = PERSON\n",
      "Entity Text = three; Entity Label = CARDINAL\n",
      "Entity Text = Roger A; Entity Label = PERSON\n",
      "Entity Text = Retirees With Relatively Modest Income; Entity Label = ORG\n",
      "Entity Text = 5  ; Entity Label = CARDINAL\n",
      "Entity Text = 6; Entity Label = CARDINAL\n",
      "Entity Text = the SECURE Act9  Other Observations and Considerations; Entity Label = ORG\n",
      "Entity Text = first; Entity Label = ORDINAL\n"
     ]
    }
   ],
   "source": [
    "# initializing empty lists to store entity text and labels\n",
    "entity_text = []\n",
    "entity_label = []\n",
    "\n",
    "# storing text and types in list\n",
    "for ent in doc.ents:\n",
    "    # appending the entity texts to the entity_text list\n",
    "    entity_text.append(ent.text)\n",
    "    # appending the labels to the entity_label list\n",
    "    entity_label.append(ent.label_)\n",
    "\n",
    "# printing out the first 20 entity text and labels\n",
    "for i in range(20):\n",
    "    print(f'Entity Text = {entity_text[i]}; Entity Label = {entity_label[i]}')"
   ]
  },
  {
   "cell_type": "markdown",
   "id": "84f4900a",
   "metadata": {},
   "source": [
    "## 8.  Visualize the MONEY  and QUANTITY  in the texts."
   ]
  },
  {
   "cell_type": "markdown",
   "id": "24a2665a",
   "metadata": {},
   "source": [
    "Finally, we will visualize the named entities, MONEY and QUANTITY."
   ]
  },
  {
   "cell_type": "code",
   "execution_count": 13,
   "id": "f0af5b2e",
   "metadata": {},
   "outputs": [
    {
     "data": {
      "text/html": [
       "<span class=\"tex2jax_ignore\"><div class=\"entities\" style=\"line-height: 2.5; direction: ltr\">1T ROWE  PRICE INSIGHTSON RETIREMENTKEY INSIGHTS\tThere are alternatives to the conventional strategy of drawing on a taxable account first followed by taxdeferred and then Roth accounts \tMany people can take advantage of income in a low tax bracket or taxfree capital gains\tIf planning to leave an estate to heirs consider which assets will ultimately maximize the aftertax value How to Get More Out of Your Retirement Account Withdrawals These approaches can extend the life of your portfolio and preserve assets for heirsMany people will rely largely on Social Security benefits and taxdeferred accounts such as individual retirement accounts IRAs and 401k plans to support their lifestyle in retirement However a sizable number of retirees will also enter retirement with assets in taxable accounts such as brokerage accounts and Roth accounts Deciding how to use that combination of accounts to fund spending is a decision likely driven by tax consequences because distributions or withdrawals from the accounts have different tax characteristics see Figure 1  and Appendix 1A commonly recommended approach which well call conventional wisdom is to withdraw from taxable accounts first followed by taxdeferred accounts and finally Roth assets There is some logic to this approach\tIf you draw from taxable accounts first your taxadvantaged accounts have more time to grow taxdeferred\tLeaving Roth assets until last provides potential taxfree income for your heirs\tIt is relatively easy to implementUnfortunately the conventional wisdom approach may result in income that is unnecessarily taxed at high rates In addition this approach does not consider the tax situations of both retirees and their heirs This paper considers three objectives retirees may have\tExtending the life of their portfolio\tHaving more aftertax money to spend in retirement\tBequeathing assets efficiently to their heirs Roger A Young CFPSenior Financial PlannerTABLE OF CONTENTS1 Introduction3  Retirees With Relatively Modest Income 5  Affluent People With Significant Taxable Accounts 6  People Who Expect to Leave an Estate 9  Withdrawal Planning After the SECURE Act9  Other Observations and Considerations 11 Conclusion11 Appendices16 Assumptions 2The first two go hand in hand If your goal is to have more money to spend in retirement a strategy that extends the life of the portfolio can also meet that need2 In both cases the focus is on the retiree not the heirs For people focused on the third objectiveleaving an estatethe withdrawal strategy can include techniques to minimize taxes across generations So what can investors do and how can advisors navigate these conversations We evaluated different withdrawal strategies for a variety of situations and summarized the key techniques for three general scenarios types of people Our evaluation was based on assumptions page 16  key among them\tBecause the results depend so heavily on federal taxes we took into account tax rules on Social Security benefits qualified dividends longterm capital gains LTCG and ordinary income See Appendix 1 for further discussion of how these tax effects are interrelated\tThe household uses the married filing jointly status and standard deduction3 State taxes and federal estate tax are not considered\tAll taxable investment account earnings are either qualified dividends or longterm capital gains41 Generally owner is over age 59½ and Roth account has been open for at least 5 years2 Because these goals are similar our analysis focuses on the longevity of the portfolio Note however that the percentage improvement in spending capacity may be lower than the improvement in longevity3 We used rates that were effective January 1 2020 While federal tax rates are scheduled to revert to pre2018 levels after 2025 those rates are not reflected in the calculations Inflation adjustments to brackets effective in 2021 do not significantly affect the analysis and therefore are not reflected4 This essentially assumes the account is invested in stocks or stock funds an approach recommended in research on asset location including Dammon Robert M Chester S Spatt and Harold H Zhang Optimal Asset Location and Allocation With Taxable and TaxDeferred Investing 2004 The Journal of Finance 59 3 9991037 Use of this assumption for withdrawal strategy research was employed in DiLellio James and Dan Ostrov Constructing Tax Efficient Withdrawal Strategies for Retirees 2018 Pepperdine University Graziadio Working Paper Series Paper 5Fig 1 Tax Characteristics of Different AssetsThe tax treatment varies significantly by type of accountIncome tax on earningsIncome tax on distribution or liquidationTax treatments for heirsTaxAdvantaged  AccountsTaxdeferred IRA or 401kDeferred Ordinary rateBeneficiarys RMDs ordinary rateRoth IRA or 401k DeferredContributions taxfree earnings taxfree if qualified1Beneficiarys RMDs taxfree if qualified need to meet the fiveyear ruleTaxable AccountsAppreciationNone until liquidatedReturn of cost basis taxfree gains at capital gains ratesStepup in basis  so gains during life of original owner  are taxfreeOrdinary incomegenerating eg interestOrdinary rateQualified dividendQualified dividend rateLegend  Potentially taxfree  Likely to benefit from lower capital gains and qualified dividend rates Taxed at ordinary ratesInvestors with more than one type of account for retirement can usually do better than following the conventional wisdom  Roger Young CFP Senior Financial Planner 3\tAll accounts earn the same constant rate of return before taxes\tAll amounts are expressed in todays dollarsScenario 1 Retirees With Relatively Modest IncomeGoal Meet their spending needs or generate extra income without running out of moneyStrategy Spread out taxdeferred distributions to take full advantage of income at a very low or even zero tax rateMany peopleincluding a good number with household incomes above the US medianmay be in a low tax bracket in retirement They are probably more concerned about outliving their money than about leaving an inheritance Those who have done a solid job of saving in different accounts can probably do better than the conventional wisdomWhen following conventional wisdom you start by relying on Social Security and taxable account withdrawals Since some of that cash flow is not taxed you may find yourself paying little or no federal income tax early in retirement before required minimum distributions RMDs That sounds greatbut you may be leaving some lowtax income on the table And then after RMDs kick in you may be paying more tax than necessaryA better approach is to fill up a low tax bracket with ordinary income from taxdeferred account distributions For example this income could fill the 0 bracket where income is less than deductions or the 10 bracket Any spending need above those distributions and Social Security can be met with taxable account liquidations followed by Roth distributions5To illustrate this Example 1 is a married couple who can maintain their lifestyle by spending 65000 per year after taxes They receive 29000 in annual Social Security benefits Their retirement portfolio of 750000 includes 10 in taxable accounts 60 in taxdeferred accounts and 30 in Roth accountsSome retirees with a mix of retirement accounts may not have to pay any federal income taxeven if they did while they were  working Roger Young CFPSenior Financial PlannerFig 2 Sources of Retirement Income for Example 1 Under Conventional Wisdom MethodThis approach results in unnecessary taxes during years 317Income Before Taxes0100002000030000400005000060000700008000030 29 28 27 26 25 24 23 22 21 20 19 18 17 16 15 14 13 12 11 109 8 7 6 5 4 3 2 1Taxes Paid Roth TaxDeferred Elective TaxDeferred RMD Taxable Liquidation Taxable Dividend Social Security10000Year of Retirement5 This sequence has been advocated by several researchers including Geisler Greg and David Hulse The Effects of Social Security Benefits  and RMDs on TaxEfficient Withdrawal Strategies 2018 Journal of Financial Planning 31 2 3647 4Figure 2  shows how this couple would meet their spending needs using the conventional wisdom approach Taxes paid are shown as negatives in dark blue Throughout this paper we will use these graphs to help explain strategies and show the tax impactThe couple first exhausts the taxable account primarily green then the taxdeferred account orange and purple and then the Roth account yellow In the first two years they have negative taxable income and pay no federal tax In years four to 17 they pay around 2600 per year in federal taxes dark blueIf they follow the principle of filling up the 0 bracket the graph in Figure 3  looks quite different By spreading out taxdeferred distributions the couple pays no federal income taxHow do they manage not to pay income tax \tDrawing consistently from either Roth accounts taxfree or taxable accounts with the cost basis portion taxfree limits the taxdeferred distributions needed each year \tCombined income including capital gains is low enough that only a small portion of Social Security benefits are taxable\tAs a result ordinary income is below the standard deduction\tThe households income is also well below the threshold for taxes on capital gainsAs a result the households portfolio lasts two years longer 316 years as opposed to 296 years under the conventional method Thats an improvement of 7 If both spouses die between ages 80 and 95 their heirs would receive between 21000 and 69000 more aftertax value than with the conventional method See the assumptions and results for all examples in Appendix 2Key Insight Moderateincome people with multiple types of accounts may want to draw down Roth andor taxable assets along with taxdeferred accounts to consistently stay in a low marginal bracket 0 or 106Fig 3 Sources of Retirement Income for Example 1 Under BracketFilling MethodBy leveling out taxdeferred distributions the household pays no federal income taxesIncome Before Taxes010000200003000040000500006000070000323130292827262524232221201918171615141312111098765432110000Taxes Paid Roth TaxDeferred Elective TaxDeferred RMD Taxable Liquidation Taxable Dividend Social SecurityYear of Retirement6 Higherincome households could also benefit from filling higher brackets In some circumstances people may benefit from converting  taxdeferred assets to Roth rather than using the distributions for current consumptionsee Appendix 4 5 Scenario 2 Affluent People With Significant Taxable AccountsGoals Avoid running out of money and leave an estate if possible Strategy Consider using untaxed capital gainsPeople in this category are affluent but not necessarily so wealthy that the estate is their top priority7 Taxable accounts represent a sizable portion of their assets perhaps from an inheritance bonuses or savings above retirement plan contribution limits They probably have higher Social Security benefits than people in our first scenario which could prevent them from using the 0 bracket strategy In this situation you should consider taking advantage of capital gains below the threshold for taxation There are only three tax rates for LTCG and qualified dividends 0 15 and 208 The taxable income9 threshold where you start paying taxes is much higher than for ordinary income 80000 for married couples filing jointly Its important to note that taxable income for this calculation is after deductions so this strategy is feasible for more people today than before the standard deduction increased in 2018 Consider Example 2 a couple with  2 million in assets 40 of which is in taxable accounts Well assume that the taxable accounts have a low cost basis25 of the valueand therefore liquidations result in significant capital gains Their spending needs and Social Security benefits are higher than in the first scenarioThe best result we found used Roth distributions after RMDs begin to limit taxable income taking full advantage of untaxed capital gains This strategy is depicted in Figure 4  Using Roth distributions keeps taxable income below the threshold for capital gains taxation This prevents taxes on capital gains or qualified dividends for the first 35 years saving over 76000 in taxes in those years compared with the conventional method In this case the Fig 4 Sources of Retirement Income for Example 2 Utilizing Untaxed Capital GainsThis strategy relies on carefully choosing the size of Roth distributions Income Before Taxes0200004000060000800001000001200001400004443424140393837363534333231302928272625242322212019181716151413121110987654321Taxes Paid Roth TaxDeferred Elective TaxDeferred RMD Taxable Liquidation Taxable Dividend Social SecurityYear of Retirement200007 Throughout the paper we discuss estimated life of the portfolio assuming constant investment returns This intentionally ignores sequence of  returns risk Readers should not assume that a portfolio theoretically lasting 40 years has no risk of running out8 This income could also be subject to the 38 net investment income tax which uses a threshold based on a different definition of income9 See description in Appendix 1Selling taxable investments in lowincome years could take advantage of untaxed capital  gains  Roger Young CFPSenior Financial Planner 6impact of lower taxes early in retirement outweighs the higher taxes in later years when the conventional method would be primarily using Roth income This method also generated better results than filling the 10 ordinary income bracket which would incur more taxes early in retirementAs a result portfolio longevity improves by 3 and estate value10 by 6 at age 95 compared with the conventional method Therefore this method was beneficial for both types of goals See Appendix 2 for further detailsKey Insight Retirees who cant take advantage of the 0 bracket may still be in a position to generate cash flow from taxable accounts without paying capital gains taxesScenario 3 People Who Expect to Leave an EstateGoals Maximize the aftertax inheritance for heirs while meeting lifetime spending needs Strategies Consider your heirs tax situation to help prioritize taxdeferred or Roth distributions consider preserving taxable assets for the stepup in basisPeople who have accumulated significant assets may have confidence that they are unlikely to run out of money Therefore they can plan a strategy with their heirs in mind These people arent necessarily ultrawealthy but they have been strong savers relative to their income or spending While these households may have a relatively small portion of assets in Roth accounts any Roth assets they do have can be beneficial in planningThe first new strategy to employ involves choosing between Roth and taxdeferred distributions When accumulating assets it usually makes sense to choose between Roth and pretax contributions based on whether you think your tax rate will go up or down in retirement Similarly to leave your heirs the largest aftertax inheritance consider their potential tax rate If its higher than yours its better to leave them Roth assets and draw on taxdeferred assets for your own spendingOf course there are some challenges with implementing this approach First it can be difficult to predict your heirs taxes 30 years down the road Second your own marginal tax rate can change over the course of your retirement That said if your heirs tax situation is even somewhat predictable it can be a factor to considerThe second strategy to consider is preserving taxable assets Under current tax law the cost basis for inherited investments is the value at the owners death This is known as a stepup in basis and it effectively makes gains during the original owners lifetime taxfree for heirs This can be a major benefit for people with wealth that wont be spent in retirementThere are four major factors that determine the attractiveness of holding taxable assets for the stepup compared with preserving Roth assets11\tCost basis as a percentage of value lower basis favors holding the taxable investment \tThe tax rate on capital gains and dividends higher rate favors holding10 The percentage improvement in estate value depends largely on how close the portfolio is to running out For example the percentage improvement after 30 years could be very large if the portfolio will run out by the end of 31 or 32 years We show the percentage only if there is significant portfolio life left as in this case11 DiLellio and Ostrov See Appendix 3 for details of this analysis including how to evaluate a comparison with taxdeferred assetsPeople leaving an estate should consider holding taxable assets so their heirs get the stepup in basis  and taxfree gains  Roger Young CFP Senior Financial Planner 7\tLife expectancy of the owner holding becomes more attractive closer to the end of life and\tThe investment dividend rate lower dividend favors holdingOne tricky part about this decision is that the capital gains tax rate depends on your taxable income Therefore it can change based on how you use different accounts to meet spending needs As we discussed in the second scenario some people can take advantage of untaxed capital gains especially before RMDs To the extent gains are untaxed there is no benefit in holding those assets for the stepup Another caveat is that we assume the same investment returns for all accounts if your lowbasis taxable investment has lower growth potential or higher risk holding it obviously becomes less attractiveFor Example 3a a couple with 25 million in assets we assume the heirs tax rate is 10lower than the couples marginal rate in most years Because the heirs tax rate is lower than the couples we arent in a hurry to drain the taxdeferred account We especially dont want to take taxdeferred distributions if they push the couple into the 22 bracket Instead the best method we found shown in Figure 5  uses Roth distributions in the early retirement years This illustrates three techniques including one from the second scenario discussed earlier\tAt the beginning Roth distributions are used in combination with taxable liquidations to keep taxable income below the threshold for capital gains taxes\tAfter RMDs begin it is preferable to meet remaining spending needs with Roth distributions instead of elective taxdeferred distributions because of the low heir tax rate\tAt that point we also had another decisionwhether to preserve taxable assets for the stepup It turned out that drawing down the Roth account to preserve taxable assets was favorable However after the Roth account was depleted it was better to liquidate taxable assets than to take elective taxdeferred distributionsThis method reduces taxes in the first 15 years of retirement until the Roth account is depleted by over 43000 compared with the conventional method As a result the households portfolio lasts Fig 5 Sources of Retirement Income for Example 3a Prioritizing Roth DistributionsIf heirs will have a low tax rate its preferable to leave them taxdeferred assetsIncome Before Taxes02000040000600008000010000012000014000016000046454443424140393837363534333231302928272625242322212019181716151413121110987654321Taxes Paid Roth TaxDeferred Elective TaxDeferred RMD Taxable Liquidation Taxable Dividend Social SecurityYear of Retirement20000 8about 2 longer with a 5 improvement in estate value at age 95 See Appendix 2 For Example 3b we will use the same assumptions except that we now expect the heirs to have a 24 tax rate which is higher than the couples top rate For this couple it makes sense to draw on taxdeferred assets sooner as shown in Figure 6 This strategy develops in three stages\tAs in the previous two examples we found that taking advantage of untaxed capital gains in the early years was more beneficial than taking taxdeferred distributions to fill an ordinary tax bracket \tHowever because of the high tax rate on heirs we then shifted to taxdeferred distributions after RMDs push taxable income above the capital gains taxation threshold \tThen after the taxdeferred account was depleted we returned to a combination of Roth distributions and taxable liquidations until the Roth account is depleted The level of Roth distributions was chosen to keep taxable income below the threshold for capital gains taxation so those gains are untaxedThe key is that this method preserves Roth and taxable assets for the highly taxed heirs It improves on the conventional method by 3 for portfolio longevity and by 8 for value to heirs at age 95Youll notice that this method incurs significant taxes in years eight through 24 That suggests a few caveats about using the approach this aggressively\tYou want to be highly confident youre not going to run out of money\tYou should also be pretty sure your heirs will really be in the higher bracket\tThere are good reasons to keep some taxdeferred assets in reserve For example if you incur large deductible medical expenses later in life you can use those deductions to offset taxdeferred distributions12In Examples 3a and 3b there are years where it makes sense to hold on to taxable assets for the stepup 12 Cook Kirsten A William Meyer and William Reichenstein TaxEfficient Withdrawal Strategies 2015 Financial Analysts Journal  71 21629Fig 6 Sources of Retirement Income for Example 3b Prioritizing TaxDeferred DistributionsHeirs with a high tax bracket benefit from inheriting Roth assetsIncome Before Taxes02000040000600008000010000012000014000016000046454443424140393837363534333231302928272625242322212019181716151413121110987654321Taxes Paid Roth TaxDeferred Elective TaxDeferred RMD Taxable Liquidation Taxable Dividend Social SecurityYear of Retirement20000Drawing down taxdeferred assets now can help your highly taxed heirs later But proceed with caution  Roger Young CFPSenior Financial Planner 9but there are also years where selling some taxable assets is preferable The examples differ in how they fund spending with other accounts during the years when taxable assets are preservedKey Insight Techniques to optimize your heirs aftertax inheritance are not simple to evaluate but theyre worth considering if you expect your heirs will have a significantly different tax rate than yoursWithdrawal Planning After the SECURE ActThe Setting Every Community Up for Retirement Enhancement SECURE Act of 2019 made several changes to retirement savings including two that significantly affect withdrawal strategies\tThe starting age for RMDs has been extended from 70½ to 72 if you reach 70½ on or after January 1 2020\tThe ability to stretch distributions from Inherited IRAs and retirement plan accounts over time has been limited Rather than taking RMDs over their expected lifetime most beneficiaries will need to draw down the account fully within 10 calendar years of the original owners death This does not apply to some beneficiaries such as spouses and those who are less than 10 years younger than the original ownerThe new RMD age gives retirees more flexibility in developing a strategy In cases where a Roth conversion strategy makes sense there is now additional time before RMDs to convert more assets at a reasonable tax rateThe limitation of stretch distributions may have a more significant effect on withdrawal strategies A large inherited taxdeferred account is more likely than before to push a beneficiary into a higher tax bracket Therefore it is increasingly important to understand the tax situation of potential beneficiaries This information can help you coordinate an estate plan and withdrawal strategy to meet your goals\tConsider leaving different types of accounts to different beneficiaries eg Roth or taxable accounts to higherincome children and taxdeferred assets to others\tDividing retirement accounts among several beneficiaries can reduce the risk of higher taxes due to the 10year rule\tIf higher tax rates for beneficiaries are hard to avoid factor those tax rates into your withdrawal strategy As a result of the SECURE Act more households may benefit from a Roth conversion strategy or one prioritizing taxdeferred distributions as illustrated in Figure 6Each example in this paper assumes a fixed income tax rate for heirs Therefore the best strategies we identified did not change from previous versions as a result of the SECURE Act However the SECURE Act may have a significant effect on beneficiaries taxes that should be taken into considerationOther Observations  and ConsiderationsThe examples weve shown highlight the benefits of strategies for specific situations In addition to these examples and techniques retirees should consider the following\tIf you have a significant portion of assets in taxdeferred accounts as in all of our examples RMDs significantly limit your flexibility after age 72 if you reach age 70½ on or after January 1 2020 There are several plausible examples not shown in this paper where RMDs and Social Security benefits completely meet retirees spending needs As a result retirees need to plan early and take advantage of the preRMD years for any of these strategies to have a significant impactIts important to plan before RMDs limit your flexibility  Roger Young CFPSenior Financial Planner 10\tWhile we assumed retirement and Social Security claiming at age 65 the claiming decision should be evaluated along with the withdrawal strategy There are benefits to delaying claiming including the fact that the higher benefits are at least 15 untaxed Taxation is one of many factors to consider but life expectancy and risk management are generally far more important\tThe results and strategies in these examples are sensitive to specific assumptions including asset level account mix and spending needs Relatively small changes in those assumptions could make the best strategy different\tWe assumed all accounts have the same investment return In real life it is important to consider asset allocation and location across the accounts Using the taxdeferred or Roth accounts for rebalancing or allocation changes if possible may minimize taxtriggering events in the taxable account\tWe assumed a fairly taxefficient taxable account composed of stocks or stock funds If your taxable account includes investments such as bonds that generate ordinary income you generally want to liquidate those investments sooner That makes the point above about managing asset allocation particularly important \tState income taxes should also be considered but they may not be a driving factor in your decision Most states exclude Social Security income and some exclude at least a part of pension benefits or retirement account distributions Those provisions could put you in a low state tax bracket in retirement That would make it slightly more preferable for you to take taxdeferred distributions if your heirs will be subject to higher rates\tTaxes on different types of retirement income are complicated and interrelated Therefore we highly recommend consulting with a tax advisor or financial planner with appropriate software The software could be specifically designed for this purpose but general tax software can also help you evaluate the strategies\tA surviving spouse may face higher tax rates as a single filer than the couple did Couples should consider health factors age differences and expected income to assess this risk If the survivors tax burden could be significant bracketfilling strategies early in retirement may be advantageous \tRemember that statutory rates can also change and that the ordinary tax rates we discuss in this paper are scheduled to revert to pre2018 levels after 2025 The higher standard deduction significantly improves the feasibility of the 0 bracket and untaxed capital gains strategies\tWe assumed constant spending in todays dollars To deal with major changes in spending such as major purchases or medical expenses a borrowing source such as a home equity line of credit may be useful That liquidity may enable you to avoid large distributions or withdrawals that would increase your tax rate\tAn advisor who can help you improve upon the conventional wisdom method is certainly adding value through financial planning However wed characterize the improvement we found in these examples as incremental not lifechanging  11ConclusionRetirees with solid savings and a mix of investment account types are well positioned to take advantage of the tax code Rather than settling for the straightforward conventional wisdom they can benefit from one or more of these strategies\tDrawing from taxdeferred accounts to take advantage of a low or even zero marginal tax rate especially before RMDs\tSelling taxable investments when income is below the taxation threshold for longterm capital gains often supplementing with Roth distributions to meet spending needs\tConsidering heirs tax rates when deciding between taxdeferred and Roth distributions if youre confident there will be an estate\tEvaluating whether to hold taxable assets until death to take advantage of the stepup in basis again only if the assets wont be needed for spending in your lifetime Appendix 1 Federal Taxation of Retirement IncomeTo create a withdrawal strategy its important to understand how different types of retirement income are taxed for federal income taxBetween 0 and 85 of Social Security benefits SSB are included in ordinary income The percentage is based on a calculation of income sometimes referred to as combined income or provisional income generally adjusted gross income before SSB plus nontaxable interest plus half of SSB For a married couple filing jointly  if that number is below 32000 benefits are not taxable If combined income is between 32000 and 44000 the portion of SSB that is taxable equals 50 of the combined income over 32000 but limited to half of SSB If combined income is over 44000 85 of the excess is added to the amount from the 50 range to arrive at the total SSB that are taxed  In total it cant exceed 85 of SSBFor example suppose a \n",
       "<mark class=\"entity\" style=\"background: #e4e7d2; padding: 0.45em 0.6em; margin: 0 0.25em; line-height: 1; border-radius: 0.35em;\">\n",
       "    65yearold couple has 24000\n",
       "    <span style=\"font-size: 0.8em; font-weight: bold; line-height: 1; border-radius: 0.35em; vertical-align: middle; margin-left: 0.5rem\">MONEY</span>\n",
       "</mark>\n",
       " of SSB 25000 of ordinary income from taxdeferred distributions and 10000 of longterm capital gains Their combined income is 47000 25000  10000  ½ of 24000 Note that capital gains are included even though they are not ordinary income The taxable portion of SSB is calculated as follows\t50 of combined income between 32000 and 44000  6000 since its less than 50 of 24000\t85 of combined income over 44000  47000  44000    85  2550\tTotal  6000  2550  8550 since it is less than 85 of 24000 12In total this couple would have 33550 of ordinary income before deductions 25000  8550 After subtracting the 27400 standard deduction their ordinary taxable income is 6150 Since thats in the lowest 10 bracket their tax on ordinary income is simply 10  6150 or 615 In higher brackets the calculation includes a base amount plus a percentage of income over the bracket floor The base and floor are both zero for the lowest bracketWhile this couple is in the 10 bracket additional income is effectively taxed at a higher rate because it makes more of SSB taxable In the example above suppose taxdeferred distributions are 1000 higher or 26000 Now 9400 of SSB is taxable an increase of 850 Therefore ordinary income and taxable income increase by 1850 1000  850 In the 10 bracket taxes increase by 185 to 800 So the incremental 1000 of income really has an 185 marginal tax rate 10  10  85 This is sometimes referred to as the tax torpedo You dont necessarily have to avoid it like you would a real torpedo but the total marginal rate is what you should consider when evaluating withdrawal strategies13 This helps explain why a household that is eventually in the 22 bracket may not benefit much from filling the 10 bracket early in retirementit really has an 185 marginal rate for much of that bracketfilling incomeAnother key element of taxation for retirees is the separate calculation for qualified dividends and LTCG This income is subject to rates of 0 15 or 20 or a combination The bracket depends on taxable income essentially ordinary income including taxable SSB plus the gains and dividends minus deductions In the first example above this would be 33550  10000  27400  16150 This is well below the 80000 maximum for the 0 rate so the couple has no capital gains tax and their total federal income tax is 615 However an additional 1000 of LTCG would still result in additional tax Again the reason is that more SSB become taxable In this case ordinary income only increases by 850 and taxes by 85 So the effective marginal rate on these gains is 85 Thats small enough that it may not dissuade us from taking advantage of longterm gains not directly subject to tax especially early in retirementIn summary the parts are interrelated Taxdeferred distributions and LTCG affect SSB taxation while taxable SSB and taxdeferred distributions affect taxes on LTCG This complexity does not appear to be fully reflected in prior academic literature on withdrawal strategies This also helps explain why we describe our guidance using techniques and examples rather than an algorithm We also do not claim the strategies in this paper are necessarily optimal And its why we recommend consulting with a tax advisor or financial planner using appropriate software 13 Geisler and Hulse 13 Appendix 3 Determining Whether to Preserve Taxable Investments for the StepUp in BasisIn their working paper Constructing Tax Efficient Withdrawal Strategies for Retirees DiLellio and Ostrov describe formulas to compare the desirability of using an account type for consumption in retirement The formulas are based on an objective of aftertax value to heirs The key variables are using my notationtg td tm and t h Tax rates on capital gains dividends marginal ordinary income and heirs income respectivelyb  Cost basis of the taxable investment as a percentage of valuey  Estimated years until deathd  Taxable investment dividend ratea  Relative value of a taxable investment to a Roth investment for heirsThe relative desirability of using an account equals 1  t g 1  b a 1  t d dy for  taxable 1 for Roth and 1  t m1  t h for taxdeferred Therefore if the taxable desirability above is greater than 1 it is preferable to liquidate taxable investments rather than take Roth distributions If it is less than 1 it is better to hold the taxable investment for the stepup in basis This is consistent with the intuitive factors discussed in Scenario 3 on  page 6  Additional observations on this conceptAppendix 2 Fig 7 Summary of Example Assumptions and Results RoundedExample 1 Example 2 Example 3a Example 3bAssumptionsPortfolio value at retirement 750000 2000000 2500000 2500000Annual spending need after taxes 65000 120000 140000 140000Annual Social Security benefits gross 29000 45000 50000 50000Account mix percent taxabledeferredRoth 106030 405010 504010 504010Heirs marginal tax rate 12 12 10 24Initial percentage of taxable account in cost basis 75 25 25 25Memo approximate preretirement gross income  not directly used in analysis100000 210000 250000 250000Description of withdrawal strategyFill 0 ordinary bracket with taxdeferred distributionsEarly Roth distributions to fully utilize untaxed capital gainsPrioritize Roth distributions to enable untaxed capital gains and to leave taxdeferred to heirsPrioritize taxdeferred distributions in other years use Roth to enable untaxed capital gainsResults and improvement over conventional wisdom strategyPortfolio longevity 316 years 7 432 years 3 454 years 2 459 years 3Aftertax value to heirs based on assumed  age at deathAge 95 57K14832K 6 1174K 5 1140K 8Range of improvement over conventional wisdom ages 8010021K69K159K65K 32K72K 36K90KFederal taxes paid160 38K or 100 190K 24 293K 12 310K 714 Percentage improvement is not meaningful15 Ages 8095 in this case because the portfolio runs out before age 10016 For 30 years of retirement to age 95 or the last full year under the conventional wisdom method if shorter A positive change in parentheses reflects reduction in taxes paid an improvement 14\tThe value of a depends primarily on how quickly an heir will liquidate a Roth account DiLellio and Ostrov estimate that under typical circumstances  a  075 and they use values between 089 and 1 for the cases they evaluate The maximum value is 1 when the Roth is immediately liquidated by heirs We have used a value of 095 This attempts to reflect a value to ongoing taxexempt growth without overestimating the investment taxes for heirs It is also appropriate to use a value closer to 1 than to 075 after the implementation of the SECURE Act which forces most beneficiaries to draw down the account within 10 years instead of over their lifetime\tIf the investment does not pay a dividend the persons life expectancy does not affect the decision\tIf the tax rate on gains and dividends is 0 the desirability of using a taxable investment equals 1a Consistent with intuition this means it cant be preferable to use Roth assets in that situation\tThe tax rates on gains and dividends are not fixedthey depend on taxable income which depends heavily on whether Roth assets are used to meet spending needs Therefore even within a year the desirability calculation can change This explains why we found that it can make sense to use taxable assets until they start generating gains taxed at 15 then switch to drawing on Roth assetsWe can use breakeven cost basis percentage graphs to help with this decision Consider three examples in reference to these charts Figure 8 If your taxable account cost basis percentage cost basis divided by the current value is above the lines in the graph its better to sell the taxable investment than to liquidate assets in a Roth accountExample 1  Suppose you have a stock investment worth 10000 with a 9000 cost basis 90 of the value Well also assume you will face capital gains taxes at least 15 on any gains you realize in your lifetime Looking at the graph below 90 is above the breakeven lines for both capital gains tax rates That means if you need money for expenses you should sell that taxable investment and hold on to any Roth accounts Example 2  Now suppose the investment has a 4000 cost basis 40 and pays a 2 annual dividend If youre 55 and think youll live another 30 years that 40 cost basis is above the lines on the second graph So youd still want to sell the investment instead of taking a Roth distribution Example 3  But if youre 85 and figure your life expectancy is under 10 years that moves your 40 cost basis to the right and below the lines on the second graph That means it makes sense to hold on to the investment for the stepup and use your Roth account to fund your expenses insteadFig 8 BreakEven Cost Basis PercentageStock Investment With No Dividend Stock Investment With 2 Dividend 15 Appendix 4 Roth ConversionsIf you expect to leave an estate you may consider converting taxdeferred assets to Roth Because you pay ordinary tax on the conversion prior research has shown that the strategy is most advantageous when the tax rate in the year of conversion is significantly lower than the rate upon distribution from taxdeferred accounts17 Conversions early in retirement can reduce RMDs later and improve your tax diversification Our earlier research on conversions found that the benefit may also depend on the tax efficiency of the account being used to pay the taxes on the converted amount18 If the taxable account is fairly taxefficient the benefit is smaller than if that account generated significant ordinary income19In the scenarios we evaluated including many not discussed in this paper Roth conversions were sometimes beneficial but not overwhelmingly so At lower income levels the potential benefit of a conversion at a low tax rate is largely negated by higher taxation of Social Security benefits See discussion of the tax torpedo in Appendix 1 Conversions may be more beneficial at higher income levels eg reducing unneeded RMDs taxed at 24 via Roth conversions taxed at 12 To a lesser extent the modest benefit of a Roth conversion reflects the fact that we assume a relatively taxefficient taxable account In addition to implement a Roth conversion strategy early in retirement you need significant taxable assets to pay the conversion tax and fund spendingLegislative changes since late 2017 have affected the Roth conversion decision\tSince tax rates were reduced but are scheduled to increase after 2025 conversions may be attractive in the next few years\tLimitations on stretch IRA strategies may make Roth conversions appealing to reduce taxes on beneficiaries\tHowever remember that you can no longer recharacterize undo a Roth conversionIn general you should consider Roth conversions early in retirement if\tYou expect to leave an estate\tYou can comfortably afford the taxes and fund your spending with cash or a taxable account\tYour unneeded RMDs will likely be taxed at a much higher rate than the one youll pay upon conversion and\tYour heirs tax rate wont be significantly lower than yours17 Cook Meyer and Reichenstein18 Young Roger When to Consider a Roth Conversion 2020 T Rowe Price white paper19 Tax efficiency of an account can be improved in multiple ways These include taking advantage of low rates on longterm capital gains and qualified dividends as well as the stepup in basis at death  16 Assumptions  Unless Otherwise Noted\tAll accounts earn the same 3 constant real rate of return before taxes \tAll amounts are expressed in todays dollars This assumes tax brackets adjust with inflation We recognize that this is not true of Social Security taxability thresholds and Medicare incomerelated premium adjustments but we do not believe this significantly affects the results or insights \tTaxes are based on rates effective January 1 2020 While federal tax rates are scheduled to revert to pre2018 levels after 2025 those rates are not reflected in the calculations \tThe household uses the married filing jointly status and standard deduction Both spouses are the same age retire at 65 and die at the same time \tWhile there are other potentially taxexempt sources such as health savings accounts and municipal bond interest our analysis only considers Roth distributions which are assumed to be qualified\tState taxes and federal estate tax are not considered \tAll taxable investment account earnings are either qualified dividends or longterm capital gains \tGains upon liquidation of taxable investments are based on the average cost basis for the account Because taxable gains are calculated based on nominal returns including inflation rather than real returns we adjust the cost basis for an assumed 3 inflation rate each year \tTaxable investments pay a 15 dividend annually as part of the real return Taxable account dividends are used for spending and are not reinvested \tAll account withdrawals to meet spending needs are at the beginning of each year \tSpending requirements remain constant in todays dollars throughout retirement \tThe couple has no additional sources of income beyond Social Security and investments \tAll RMDs are fulfilled and any RMDs not needed for spending are invested in the taxable account \tFor purposes of valuing the estate a fixed heirs tax rate is applied to taxdeferred assets Taxable accounts are valued at 95 of the value of Roth accounts as noted in Appendix 3 \tScenarios were intended to reflect reasonable Social Security benefits relative to assets and spending needs In addition scenarios were built assuming that households with lower preretirement income would have relatively lower taxable portfolios whereas higherincome households would have limited ability to build Roth assets prior to retirement T Rowe Price focuses on delivering investment management excellence that investors can rely onnow and over the long term To learn more please visit trowepricecom221CCON00362772021021514267Important InformationThis material has been prepared for general and educational purposes only This material does not provide recommendations concerning investments investment strategies or account types It is not individualized to the needs of any specific investor and is not intended to suggest that any particular investment action is appropriate for you nor is it intended to serve as the primary basis for investment decisionmaking Any taxrelated discussion contained in this material including any attachmentslinks is not intended or written to be used and cannot be used for the purpose of i avoiding any tax penalties or ii promoting marketing or recommending to any other party any transaction or matter addressed herein Please consult your independent legal counsel andor tax professional regarding any legal or tax issues raised in this materialThe views contained herein are those of the authors as of February 2021 and are subject to change without notice these views may differ from those of other T Rowe Price associatesAll investments involve risk All charts and tables are shown for illustrative purposes onlyT Rowe Price Investment Services Inc Distributor 2021 T Rowe Price All rights reserved T Rowe Price INVEST WITH CONFIDENCE and the Bighorn Sheep design are collectively andor apart trademarks of T Rowe Price Group Inc</div></span>"
      ],
      "text/plain": [
       "<IPython.core.display.HTML object>"
      ]
     },
     "metadata": {},
     "output_type": "display_data"
    }
   ],
   "source": [
    "# setting options\n",
    "options = {\"ents\": ['MONEY', 'QUANTITY']}\n",
    "# visualizing entities\n",
    "displacy.render(doc, style=\"ent\", jupyter = True, options=options)"
   ]
  },
  {
   "cell_type": "markdown",
   "id": "af766acb",
   "metadata": {},
   "source": [
    "There doesn't appear to be many MONEY and QUANTITY labels visualized in the document, but let's create counters to see how many are present."
   ]
  },
  {
   "cell_type": "code",
   "execution_count": 14,
   "id": "64d6ebf0",
   "metadata": {},
   "outputs": [
    {
     "name": "stdout",
     "output_type": "stream",
     "text": [
      "\n",
      "Number of MONEY entities: 1\n",
      "Number of QUANTITY entities: 0\n"
     ]
    }
   ],
   "source": [
    "# initializing counters for MONEY and QUANTITY entities\n",
    "money_count = 0\n",
    "quantity_count = 0\n",
    "\n",
    "# counting labels using the entity_label variable from the previous question\n",
    "for label in entity_label:\n",
    "    # checking if the label is MONEY\n",
    "    if label == \"MONEY\":\n",
    "        money_count += 1\n",
    "    # checking if the label is QUANTITY\n",
    "    elif label == \"QUANTITY\":\n",
    "        quantity_count += 1\n",
    "\n",
    "# printing the counts\n",
    "print(f'''\n",
    "Number of MONEY entities: {money_count}\n",
    "Number of QUANTITY entities: {quantity_count}''')"
   ]
  },
  {
   "cell_type": "markdown",
   "id": "a40aebce",
   "metadata": {},
   "source": [
    "As we can see, there are not many MONEY and QUANTITY labels found in the document; however upon closer inspection, it appears likely that there are additional instances of these labels. Although NER wasn't accurate this time, we could improve it by cleaning and organizing the text more thoroughly. "
   ]
  }
 ],
 "metadata": {
  "kernelspec": {
   "display_name": "Python 3 (ipykernel)",
   "language": "python",
   "name": "python3"
  },
  "language_info": {
   "codemirror_mode": {
    "name": "ipython",
    "version": 3
   },
   "file_extension": ".py",
   "mimetype": "text/x-python",
   "name": "python",
   "nbconvert_exporter": "python",
   "pygments_lexer": "ipython3",
   "version": "3.11.4"
  }
 },
 "nbformat": 4,
 "nbformat_minor": 5
}
